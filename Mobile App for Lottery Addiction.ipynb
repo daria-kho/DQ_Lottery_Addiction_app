{
 "cells": [
  {
   "cell_type": "markdown",
   "metadata": {
    "collapsed": true
   },
   "source": [
    "# Mobile App for Lottery Addiction\n",
    "\n",
    "A medical institute that aims to prevent and treat gambling addictions wants to build a dedicated mobile app to help lottery addicts better estimate their chances of winning. The institute has a team of engineers that will build the app, but they need us to create the logical core of the app and calculate probabilities.\n",
    "\n",
    "For the first version of the app, they want us to focus on [the 6/49 lottery](https://en.wikipedia.org/wiki/Lotto_6/49) and build functions that enable users to answer questions like:\n",
    "\n",
    "What is the probability of winning the big prize with a single ticket?\n",
    "What is the probability of winning the big prize if we play 40 different tickets (or any other number)?\n",
    "What is the probability of having at least five (or four, or three, or two) winning numbers on a single ticket?\n",
    "The institute also wants us to consider historical data coming from the national 6/49 lottery game in Canada. [The data set](https://www.kaggle.com/datascienceai/lottery-dataset) has data for 3,665 drawings, dating from 1982 to 2018 (we'll come back to this).\n",
    "\n",
    "The scenario we're following throughout this project is fictional — the main purpose is to practice applying the concepts we learned in a setting that simulates a real-world scenario.\n",
    "\n",
    "## Core Functions\n",
    "\n",
    "Below we will code two basic functions that we will use for all the other functions of the app."
   ]
  },
  {
   "cell_type": "code",
   "execution_count": 57,
   "metadata": {},
   "outputs": [],
   "source": [
    "def factorial(n): \n",
    "    results = 1\n",
    "    for i in range(n, 1, -1):\n",
    "        results *= i\n",
    "    return results\n",
    "\n",
    "def combinations(k, n):\n",
    "    return factorial(n)/(factorial(k)*factorial(n-k))"
   ]
  },
  {
   "cell_type": "markdown",
   "metadata": {},
   "source": [
    "## Probability of winning with a single ticket\n",
    "For the first version of the app, we want players to be able to calculate the probability of winning the big prize with the various numbers they play on a single ticket (for each ticket a player chooses six numbers out of 49). So, we'll start by building a function that calculates the probability of winning the big prize for any given ticket."
   ]
  },
  {
   "cell_type": "code",
   "execution_count": 58,
   "metadata": {},
   "outputs": [],
   "source": [
    "def one_ticket_probability(list_of_six):  \n",
    "    probability = format(1/combinations(6,49)*100, '.7f')\n",
    "    return print('This ticket has {0} % chance of winning'.format(probability))"
   ]
  },
  {
   "cell_type": "code",
   "execution_count": 59,
   "metadata": {},
   "outputs": [
    {
     "name": "stdout",
     "output_type": "stream",
     "text": [
      "This ticket has 0.0000072 % chance of winning\n"
     ]
    }
   ],
   "source": [
    "one_ticket_probability([1,24,31,4,45,6])"
   ]
  },
  {
   "cell_type": "markdown",
   "metadata": {},
   "source": [
    "## Could your ticket have won any historical draws of 6/49?\n",
    "For the first version of the app, however, users should also be able to compare their ticket against the historical lottery data in Canada and determine whether they would have ever won by now.\n",
    "\n",
    "We'll focus on exploring the historical data coming from the Canada 6/49 lottery."
   ]
  },
  {
   "cell_type": "code",
   "execution_count": 60,
   "metadata": {},
   "outputs": [
    {
     "data": {
      "text/plain": [
       "(3665, 11)"
      ]
     },
     "execution_count": 60,
     "metadata": {},
     "output_type": "execute_result"
    }
   ],
   "source": [
    "import pandas as pd\n",
    "history_649 = pd.read_csv('649.csv')\n",
    "history_649.shape"
   ]
  },
  {
   "cell_type": "code",
   "execution_count": 61,
   "metadata": {},
   "outputs": [
    {
     "data": {
      "text/html": [
       "<div>\n",
       "<style scoped>\n",
       "    .dataframe tbody tr th:only-of-type {\n",
       "        vertical-align: middle;\n",
       "    }\n",
       "\n",
       "    .dataframe tbody tr th {\n",
       "        vertical-align: top;\n",
       "    }\n",
       "\n",
       "    .dataframe thead th {\n",
       "        text-align: right;\n",
       "    }\n",
       "</style>\n",
       "<table border=\"1\" class=\"dataframe\">\n",
       "  <thead>\n",
       "    <tr style=\"text-align: right;\">\n",
       "      <th></th>\n",
       "      <th>PRODUCT</th>\n",
       "      <th>DRAW NUMBER</th>\n",
       "      <th>SEQUENCE NUMBER</th>\n",
       "      <th>DRAW DATE</th>\n",
       "      <th>NUMBER DRAWN 1</th>\n",
       "      <th>NUMBER DRAWN 2</th>\n",
       "      <th>NUMBER DRAWN 3</th>\n",
       "      <th>NUMBER DRAWN 4</th>\n",
       "      <th>NUMBER DRAWN 5</th>\n",
       "      <th>NUMBER DRAWN 6</th>\n",
       "      <th>BONUS NUMBER</th>\n",
       "    </tr>\n",
       "  </thead>\n",
       "  <tbody>\n",
       "    <tr>\n",
       "      <th>0</th>\n",
       "      <td>649</td>\n",
       "      <td>1</td>\n",
       "      <td>0</td>\n",
       "      <td>6/12/1982</td>\n",
       "      <td>3</td>\n",
       "      <td>11</td>\n",
       "      <td>12</td>\n",
       "      <td>14</td>\n",
       "      <td>41</td>\n",
       "      <td>43</td>\n",
       "      <td>13</td>\n",
       "    </tr>\n",
       "    <tr>\n",
       "      <th>1</th>\n",
       "      <td>649</td>\n",
       "      <td>2</td>\n",
       "      <td>0</td>\n",
       "      <td>6/19/1982</td>\n",
       "      <td>8</td>\n",
       "      <td>33</td>\n",
       "      <td>36</td>\n",
       "      <td>37</td>\n",
       "      <td>39</td>\n",
       "      <td>41</td>\n",
       "      <td>9</td>\n",
       "    </tr>\n",
       "    <tr>\n",
       "      <th>2</th>\n",
       "      <td>649</td>\n",
       "      <td>3</td>\n",
       "      <td>0</td>\n",
       "      <td>6/26/1982</td>\n",
       "      <td>1</td>\n",
       "      <td>6</td>\n",
       "      <td>23</td>\n",
       "      <td>24</td>\n",
       "      <td>27</td>\n",
       "      <td>39</td>\n",
       "      <td>34</td>\n",
       "    </tr>\n",
       "    <tr>\n",
       "      <th>3</th>\n",
       "      <td>649</td>\n",
       "      <td>4</td>\n",
       "      <td>0</td>\n",
       "      <td>7/3/1982</td>\n",
       "      <td>3</td>\n",
       "      <td>9</td>\n",
       "      <td>10</td>\n",
       "      <td>13</td>\n",
       "      <td>20</td>\n",
       "      <td>43</td>\n",
       "      <td>34</td>\n",
       "    </tr>\n",
       "    <tr>\n",
       "      <th>4</th>\n",
       "      <td>649</td>\n",
       "      <td>5</td>\n",
       "      <td>0</td>\n",
       "      <td>7/10/1982</td>\n",
       "      <td>5</td>\n",
       "      <td>14</td>\n",
       "      <td>21</td>\n",
       "      <td>31</td>\n",
       "      <td>34</td>\n",
       "      <td>47</td>\n",
       "      <td>45</td>\n",
       "    </tr>\n",
       "    <tr>\n",
       "      <th>5</th>\n",
       "      <td>649</td>\n",
       "      <td>6</td>\n",
       "      <td>0</td>\n",
       "      <td>7/17/1982</td>\n",
       "      <td>8</td>\n",
       "      <td>20</td>\n",
       "      <td>21</td>\n",
       "      <td>25</td>\n",
       "      <td>31</td>\n",
       "      <td>41</td>\n",
       "      <td>33</td>\n",
       "    </tr>\n",
       "    <tr>\n",
       "      <th>6</th>\n",
       "      <td>649</td>\n",
       "      <td>7</td>\n",
       "      <td>0</td>\n",
       "      <td>7/24/1982</td>\n",
       "      <td>18</td>\n",
       "      <td>25</td>\n",
       "      <td>28</td>\n",
       "      <td>33</td>\n",
       "      <td>36</td>\n",
       "      <td>42</td>\n",
       "      <td>7</td>\n",
       "    </tr>\n",
       "    <tr>\n",
       "      <th>7</th>\n",
       "      <td>649</td>\n",
       "      <td>8</td>\n",
       "      <td>0</td>\n",
       "      <td>7/31/1982</td>\n",
       "      <td>7</td>\n",
       "      <td>16</td>\n",
       "      <td>17</td>\n",
       "      <td>31</td>\n",
       "      <td>40</td>\n",
       "      <td>48</td>\n",
       "      <td>26</td>\n",
       "    </tr>\n",
       "    <tr>\n",
       "      <th>8</th>\n",
       "      <td>649</td>\n",
       "      <td>9</td>\n",
       "      <td>0</td>\n",
       "      <td>8/7/1982</td>\n",
       "      <td>5</td>\n",
       "      <td>10</td>\n",
       "      <td>23</td>\n",
       "      <td>27</td>\n",
       "      <td>37</td>\n",
       "      <td>38</td>\n",
       "      <td>33</td>\n",
       "    </tr>\n",
       "    <tr>\n",
       "      <th>9</th>\n",
       "      <td>649</td>\n",
       "      <td>10</td>\n",
       "      <td>0</td>\n",
       "      <td>8/14/1982</td>\n",
       "      <td>4</td>\n",
       "      <td>15</td>\n",
       "      <td>30</td>\n",
       "      <td>37</td>\n",
       "      <td>46</td>\n",
       "      <td>48</td>\n",
       "      <td>3</td>\n",
       "    </tr>\n",
       "  </tbody>\n",
       "</table>\n",
       "</div>"
      ],
      "text/plain": [
       "   PRODUCT  DRAW NUMBER  SEQUENCE NUMBER  DRAW DATE  NUMBER DRAWN 1  \\\n",
       "0      649            1                0  6/12/1982               3   \n",
       "1      649            2                0  6/19/1982               8   \n",
       "2      649            3                0  6/26/1982               1   \n",
       "3      649            4                0   7/3/1982               3   \n",
       "4      649            5                0  7/10/1982               5   \n",
       "5      649            6                0  7/17/1982               8   \n",
       "6      649            7                0  7/24/1982              18   \n",
       "7      649            8                0  7/31/1982               7   \n",
       "8      649            9                0   8/7/1982               5   \n",
       "9      649           10                0  8/14/1982               4   \n",
       "\n",
       "   NUMBER DRAWN 2  NUMBER DRAWN 3  NUMBER DRAWN 4  NUMBER DRAWN 5  \\\n",
       "0              11              12              14              41   \n",
       "1              33              36              37              39   \n",
       "2               6              23              24              27   \n",
       "3               9              10              13              20   \n",
       "4              14              21              31              34   \n",
       "5              20              21              25              31   \n",
       "6              25              28              33              36   \n",
       "7              16              17              31              40   \n",
       "8              10              23              27              37   \n",
       "9              15              30              37              46   \n",
       "\n",
       "   NUMBER DRAWN 6  BONUS NUMBER  \n",
       "0              43            13  \n",
       "1              41             9  \n",
       "2              39            34  \n",
       "3              43            34  \n",
       "4              47            45  \n",
       "5              41            33  \n",
       "6              42             7  \n",
       "7              48            26  \n",
       "8              38            33  \n",
       "9              48             3  "
      ]
     },
     "execution_count": 61,
     "metadata": {},
     "output_type": "execute_result"
    }
   ],
   "source": [
    "history_649.head(10)"
   ]
  },
  {
   "cell_type": "markdown",
   "metadata": {},
   "source": [
    "Below we will write a function that extracts the winning combinations of numbers from the dataset as python sets. We do this to be able to work with these combinations. "
   ]
  },
  {
   "cell_type": "code",
   "execution_count": 62,
   "metadata": {},
   "outputs": [],
   "source": [
    "def extract_numbers(any_row):\n",
    "    cells = []\n",
    "    for cell in any_row[4:10]: \n",
    "        cells.append(cell)\n",
    "    return set(cells)\n",
    "\n",
    "winning_sets = history_649.apply(extract_numbers, axis=1)"
   ]
  },
  {
   "cell_type": "markdown",
   "metadata": {},
   "source": [
    "Now we will write a function that takes in a set from the user and compares it to the historical data to find out the probability of this set winning in the next draw."
   ]
  },
  {
   "cell_type": "code",
   "execution_count": 63,
   "metadata": {},
   "outputs": [
    {
     "name": "stdout",
     "output_type": "stream",
     "text": [
      "This combination has not win since 1982. The probability it will win in the nexr draw is 1 in 13983816.0\n"
     ]
    }
   ],
   "source": [
    "def check_historical_occurence(user_list, winning_sets):\n",
    "    occurencies = set(user_list)== winning_sets\n",
    "    if sum(occurencies) == 0:\n",
    "        print('This combination has not win since 1982. The probability it will win in the nexr draw is 1 in {}'.format(combinations(6,49)))\n",
    "    else:\n",
    "        print('This combination has won {} times since 1982. The probability it will win in the nexr draw is 1 in {}'.format(sum(occurencies),combinations(6,49)))\n",
    "    \n",
    "\n",
    "check_historical_occurence([1,2,45, 23, 12, 33], winning_sets)\n"
   ]
  },
  {
   "cell_type": "markdown",
   "metadata": {},
   "source": [
    "## Probability of Several Tickets Winning\n",
    "\n",
    "Lottery addicts usually play more than one ticket on a single drawing, thinking that this might increase their chances of winning significantly. Our purpose is to help them better estimate their chances of winning — as the next step, we're going to write a function that will allow the users to calculate the chances of winning for any number of different tickets."
   ]
  },
  {
   "cell_type": "code",
   "execution_count": 64,
   "metadata": {},
   "outputs": [
    {
     "name": "stdout",
     "output_type": "stream",
     "text": [
      "You have 1 ticket(s). Your probability of winning the 6/49 lottery is 0.0000072%.\n",
      "None\n",
      "You have 10 ticket(s). Your probability of winning the 6/49 lottery is 0.0000715%.\n",
      "None\n",
      "You have 100 ticket(s). Your probability of winning the 6/49 lottery is 0.0007151%.\n",
      "None\n",
      "You have 10000 ticket(s). Your probability of winning the 6/49 lottery is 0.0715112%.\n",
      "None\n",
      "You have 1000000 ticket(s). Your probability of winning the 6/49 lottery is 7.1511238%.\n",
      "None\n",
      "You have 6991908 ticket(s). Your probability of winning the 6/49 lottery is 50.0000000%.\n",
      "None\n",
      "You have 13983816 ticket(s). Your probability of winning the 6/49 lottery is 100.0000000%.\n",
      "None\n"
     ]
    }
   ],
   "source": [
    "def multi_ticket_probability(n):\n",
    "    total_outcomes = combinations(6, 49)\n",
    "    probability = format(n/combinations(6,49)*100, '.7f')\n",
    "    return print('You have {} ticket(s). Your probability of winning the 6/49 lottery is {}%.'.format(n, probability))\n",
    "\n",
    "test_cases = [1, 10, 100, 10000, 1000000, 6991908, 13983816]\n",
    "for case in test_cases:\n",
    "    print(multi_ticket_probability(case))"
   ]
  },
  {
   "cell_type": "markdown",
   "metadata": {},
   "source": [
    "## Probability of Winning Smaller Prizes\n",
    "\n",
    "For extra context, in most 6/49 lotteries there are smaller prizes if a player's ticket match two, three, four, or five of the six numbers drawn. As a consequence, the users might be interested in knowing the probability of having two, three, four, or five winning numbers. We will write a function that takes in an integer between 2 and 5 and prints information about the chances of winning depending on the value of that integer."
   ]
  },
  {
   "cell_type": "code",
   "execution_count": 65,
   "metadata": {},
   "outputs": [
    {
     "name": "stdout",
     "output_type": "stream",
     "text": [
      "The probability of having 2 winning numbers is 13.2378029%.\n",
      "None\n",
      "The probability of having 3 winning numbers is 1.7650404%.\n",
      "None\n",
      "The probability of having 4 winning numbers is 0.0968620%.\n",
      "None\n",
      "The probability of having 5 winning numbers is 0.0018450%.\n",
      "None\n"
     ]
    }
   ],
   "source": [
    "def probability_less_6(btw_2_and_5):\n",
    "    n_combinations_ticket = combinations(btw_2_and_5, 6)\n",
    "    other_combinations = combinations(6-btw_2_and_5, 43)\n",
    "    total_outcomes = n_combinations_ticket*other_combinations\n",
    "    probability = format(total_outcomes/combinations(6, 49)*100, '.7f')\n",
    "    return print('The probability of having {} winning numbers is {}%.'.format(btw_2_and_5, probability))\n",
    "\n",
    "print(probability_less_6(2))\n",
    "print(probability_less_6(3))\n",
    "print(probability_less_6(4))\n",
    "print(probability_less_6(5))"
   ]
  },
  {
   "cell_type": "markdown",
   "metadata": {},
   "source": [
    "## Next Steps\n",
    "We managed to write four main functions for our app:\n",
    "\n",
    "`one_ticket_probability()` — calculates the probability of winning the big prize with a single ticket; \n",
    "\n",
    "`check_historical_occurrence()` — checks whether a certain combination has occurred in the Canada lottery data set; \n",
    "\n",
    "`multi_ticket_probability()` — calculates the probability for any number of of tickets between 1 and 13,983,816; \n",
    "\n",
    "`probability_less_6()` — calculates the probability of having two, three, four or five winning numbers. \n",
    "\n",
    "**Possible features for a second version of the app include:**\n",
    "\n",
    "- Making the outputs even easier to understand by adding fun analogies (for example, we can find probabilities for strange events and compare with the chances of winning in lottery; for instance, we can output something along the lines \"You are 100 times more likely to be the victim of a shark attack than winning the lottery\").\n",
    "  \n",
    "- Combining the one_ticket_probability() and check_historical_occurrence() to output information on probability and historical occurrence at the same time.\n",
    "  \n",
    "- Creating a function similar to probability_less_6() which calculates the probability of having at least two, three, four or five winning numbers. "
   ]
  }
 ],
 "metadata": {
  "kernelspec": {
   "display_name": "Python 3",
   "language": "python",
   "name": "python3"
  },
  "language_info": {
   "codemirror_mode": {
    "name": "ipython",
    "version": 3
   },
   "file_extension": ".py",
   "mimetype": "text/x-python",
   "name": "python",
   "nbconvert_exporter": "python",
   "pygments_lexer": "ipython3",
   "version": "3.8.8"
  }
 },
 "nbformat": 4,
 "nbformat_minor": 2
}
